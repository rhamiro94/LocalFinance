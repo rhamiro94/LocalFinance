{
 "cells": [
  {
   "cell_type": "code",
   "execution_count": 1,
   "metadata": {},
   "outputs": [
    {
     "name": "stdout",
     "output_type": "stream",
     "text": [
      "Collecting schedule\n",
      "  Downloading schedule-1.2.1-py2.py3-none-any.whl (11 kB)\n",
      "Collecting nbconvert\n",
      "  Downloading nbconvert-7.16.3-py3-none-any.whl (257 kB)\n",
      "Requirement already satisfied: jupyter-core>=4.7 in c:\\users\\lenovo\\appdata\\roaming\\python\\python310\\site-packages (from nbconvert) (5.6.1)\n",
      "Collecting nbformat>=5.7\n",
      "  Downloading nbformat-5.10.4-py3-none-any.whl (78 kB)\n",
      "Requirement already satisfied: pygments>=2.4.1 in c:\\users\\lenovo\\appdata\\roaming\\python\\python310\\site-packages (from nbconvert) (2.17.2)\n",
      "Requirement already satisfied: traitlets>=5.1 in c:\\users\\lenovo\\appdata\\roaming\\python\\python310\\site-packages (from nbconvert) (5.14.0)\n",
      "Requirement already satisfied: beautifulsoup4 in c:\\users\\lenovo\\onedrive\\escritorio\\lib\\site-packages (from nbconvert) (4.12.3)\n",
      "Requirement already satisfied: markupsafe>=2.0 in c:\\users\\lenovo\\onedrive\\escritorio\\lib\\site-packages (from nbconvert) (2.1.3)\n",
      "Collecting mistune<4,>=2.0.3\n",
      "  Downloading mistune-3.0.2-py3-none-any.whl (47 kB)\n",
      "Collecting pandocfilters>=1.4.1\n",
      "  Downloading pandocfilters-1.5.1-py2.py3-none-any.whl (8.7 kB)\n",
      "Requirement already satisfied: jinja2>=3.0 in c:\\users\\lenovo\\onedrive\\escritorio\\lib\\site-packages (from nbconvert) (3.1.2)\n",
      "Collecting nbclient>=0.5.0\n",
      "  Downloading nbclient-0.10.0-py3-none-any.whl (25 kB)\n",
      "Requirement already satisfied: packaging in c:\\users\\lenovo\\appdata\\roaming\\python\\python310\\site-packages (from nbconvert) (23.2)\n",
      "Collecting jupyterlab-pygments\n",
      "  Downloading jupyterlab_pygments-0.3.0-py3-none-any.whl (15 kB)\n",
      "Collecting defusedxml\n",
      "  Downloading defusedxml-0.7.1-py2.py3-none-any.whl (25 kB)\n",
      "Collecting bleach!=5.0.0\n",
      "  Downloading bleach-6.1.0-py3-none-any.whl (162 kB)\n",
      "Collecting tinycss2\n",
      "  Downloading tinycss2-1.3.0-py3-none-any.whl (22 kB)\n",
      "Requirement already satisfied: six>=1.9.0 in c:\\users\\lenovo\\appdata\\roaming\\python\\python310\\site-packages (from bleach!=5.0.0->nbconvert) (1.16.0)\n",
      "Collecting webencodings\n",
      "  Downloading webencodings-0.5.1-py2.py3-none-any.whl (11 kB)\n",
      "Requirement already satisfied: platformdirs>=2.5 in c:\\users\\lenovo\\appdata\\roaming\\python\\python310\\site-packages (from jupyter-core>=4.7->nbconvert) (4.1.0)\n",
      "Requirement already satisfied: pywin32>=300 in c:\\users\\lenovo\\appdata\\roaming\\python\\python310\\site-packages (from jupyter-core>=4.7->nbconvert) (306)\n",
      "Requirement already satisfied: jupyter-client>=6.1.12 in c:\\users\\lenovo\\appdata\\roaming\\python\\python310\\site-packages (from nbclient>=0.5.0->nbconvert) (8.6.0)\n",
      "Requirement already satisfied: pyzmq>=23.0 in c:\\users\\lenovo\\appdata\\roaming\\python\\python310\\site-packages (from jupyter-client>=6.1.12->nbclient>=0.5.0->nbconvert) (25.1.2)\n",
      "Requirement already satisfied: tornado>=6.2 in c:\\users\\lenovo\\appdata\\roaming\\python\\python310\\site-packages (from jupyter-client>=6.1.12->nbclient>=0.5.0->nbconvert) (6.4)\n",
      "Requirement already satisfied: python-dateutil>=2.8.2 in c:\\users\\lenovo\\appdata\\roaming\\python\\python310\\site-packages (from jupyter-client>=6.1.12->nbclient>=0.5.0->nbconvert) (2.8.2)\n",
      "Collecting fastjsonschema>=2.15\n",
      "  Downloading fastjsonschema-2.19.1-py3-none-any.whl (23 kB)\n",
      "Requirement already satisfied: jsonschema>=2.6 in c:\\users\\lenovo\\onedrive\\escritorio\\lib\\site-packages (from nbformat>=5.7->nbconvert) (4.20.0)\n",
      "Requirement already satisfied: attrs>=22.2.0 in c:\\users\\lenovo\\onedrive\\escritorio\\lib\\site-packages (from jsonschema>=2.6->nbformat>=5.7->nbconvert) (23.2.0)\n",
      "Requirement already satisfied: rpds-py>=0.7.1 in c:\\users\\lenovo\\onedrive\\escritorio\\lib\\site-packages (from jsonschema>=2.6->nbformat>=5.7->nbconvert) (0.16.2)\n",
      "Requirement already satisfied: jsonschema-specifications>=2023.03.6 in c:\\users\\lenovo\\onedrive\\escritorio\\lib\\site-packages (from jsonschema>=2.6->nbformat>=5.7->nbconvert) (2023.12.1)\n",
      "Requirement already satisfied: referencing>=0.28.4 in c:\\users\\lenovo\\onedrive\\escritorio\\lib\\site-packages (from jsonschema>=2.6->nbformat>=5.7->nbconvert) (0.32.0)\n",
      "Requirement already satisfied: soupsieve>1.2 in c:\\users\\lenovo\\onedrive\\escritorio\\lib\\site-packages (from beautifulsoup4->nbconvert) (2.5)\n",
      "Installing collected packages: fastjsonschema, webencodings, nbformat, tinycss2, pandocfilters, nbclient, mistune, jupyterlab-pygments, defusedxml, bleach, schedule, nbconvert\n",
      "Successfully installed bleach-6.1.0 defusedxml-0.7.1 fastjsonschema-2.19.1 jupyterlab-pygments-0.3.0 mistune-3.0.2 nbclient-0.10.0 nbconvert-7.16.3 nbformat-5.10.4 pandocfilters-1.5.1 schedule-1.2.1 tinycss2-1.3.0 webencodings-0.5.1\n"
     ]
    },
    {
     "name": "stderr",
     "output_type": "stream",
     "text": [
      "WARNING: You are using pip version 21.2.4; however, version 24.0 is available.\n",
      "You should consider upgrading via the 'C:\\Users\\Lenovo\\OneDrive\\Escritorio\\python.exe -m pip install --upgrade pip' command.\n"
     ]
    }
   ],
   "source": [
    "##Script de ejecución automática\n",
    "!pip install schedule nbconvert\n"
   ]
  },
  {
   "cell_type": "code",
   "execution_count": null,
   "metadata": {},
   "outputs": [],
   "source": []
  },
  {
   "cell_type": "code",
   "execution_count": 8,
   "metadata": {},
   "outputs": [
    {
     "data": {
      "text/plain": [
       "Every 1 day at 18:00:00 do ejecutar_script() (last run: [never], next run: 2024-04-25 18:00:00)"
      ]
     },
     "execution_count": 8,
     "metadata": {},
     "output_type": "execute_result"
    }
   ],
   "source": [
    "import schedule\n",
    "import time\n",
    "from nbconvert import execute_notebook\n",
    "from nbconvert import NotebookExporter\n",
    "import nbformat\n",
    "import subprocess\n",
    "\n",
    "def ejecutar_script():\n",
    "    try:\n",
    "        subprocess.check_call([\"jupyter\", \"nbconvert\", \"--to\", \"notebook\", \"--execute\", \"--inplace\", 'C:/Users/Lenovo/OneDrive/Documentos/GitHub/LocalFinance/FileActualization.ipynb'])\n",
    "    except Exception as e:\n",
    "        print(\"Error al ejecutar el script:\", e)\n",
    "\n",
    "# Programar la ejecución del script todos los días a las 6:00 PM\n",
    "schedule.every().day.at(\"18:00\").do(ejecutar_script)"
   ]
  }
 ],
 "metadata": {
  "kernelspec": {
   "display_name": "Python 3",
   "language": "python",
   "name": "python3"
  },
  "language_info": {
   "codemirror_mode": {
    "name": "ipython",
    "version": 3
   },
   "file_extension": ".py",
   "mimetype": "text/x-python",
   "name": "python",
   "nbconvert_exporter": "python",
   "pygments_lexer": "ipython3",
   "version": "3.10.2"
  }
 },
 "nbformat": 4,
 "nbformat_minor": 2
}
