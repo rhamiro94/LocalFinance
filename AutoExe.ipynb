{
 "cells": [
  {
   "cell_type": "code",
   "execution_count": 2,
   "metadata": {},
   "outputs": [
    {
     "name": "stdout",
     "output_type": "stream",
     "text": [
      "Requirement already satisfied: schedule in c:\\users\\lenovo\\onedrive\\escritorio\\lib\\site-packages (1.2.1)\n",
      "Requirement already satisfied: nbconvert in c:\\users\\lenovo\\onedrive\\escritorio\\lib\\site-packages (7.16.3)\n",
      "Requirement already satisfied: jupyterlab-pygments in c:\\users\\lenovo\\onedrive\\escritorio\\lib\\site-packages (from nbconvert) (0.3.0)\n",
      "Requirement already satisfied: beautifulsoup4 in c:\\users\\lenovo\\onedrive\\escritorio\\lib\\site-packages (from nbconvert) (4.12.3)\n",
      "Requirement already satisfied: markupsafe>=2.0 in c:\\users\\lenovo\\onedrive\\escritorio\\lib\\site-packages (from nbconvert) (2.1.3)\n",
      "Requirement already satisfied: bleach!=5.0.0 in c:\\users\\lenovo\\onedrive\\escritorio\\lib\\site-packages (from nbconvert) (6.1.0)\n",
      "Requirement already satisfied: nbclient>=0.5.0 in c:\\users\\lenovo\\onedrive\\escritorio\\lib\\site-packages (from nbconvert) (0.10.0)\n",
      "Requirement already satisfied: traitlets>=5.1 in c:\\users\\lenovo\\appdata\\roaming\\python\\python310\\site-packages (from nbconvert) (5.14.0)\n",
      "Requirement already satisfied: jinja2>=3.0 in c:\\users\\lenovo\\onedrive\\escritorio\\lib\\site-packages (from nbconvert) (3.1.2)\n",
      "Requirement already satisfied: mistune<4,>=2.0.3 in c:\\users\\lenovo\\onedrive\\escritorio\\lib\\site-packages (from nbconvert) (3.0.2)\n",
      "Requirement already satisfied: nbformat>=5.7 in c:\\users\\lenovo\\onedrive\\escritorio\\lib\\site-packages (from nbconvert) (5.10.4)\n",
      "Requirement already satisfied: tinycss2 in c:\\users\\lenovo\\onedrive\\escritorio\\lib\\site-packages (from nbconvert) (1.3.0)\n",
      "Requirement already satisfied: jupyter-core>=4.7 in c:\\users\\lenovo\\appdata\\roaming\\python\\python310\\site-packages (from nbconvert) (5.6.1)\n",
      "Requirement already satisfied: pygments>=2.4.1 in c:\\users\\lenovo\\appdata\\roaming\\python\\python310\\site-packages (from nbconvert) (2.17.2)\n",
      "Requirement already satisfied: pandocfilters>=1.4.1 in c:\\users\\lenovo\\onedrive\\escritorio\\lib\\site-packages (from nbconvert) (1.5.1)\n",
      "Requirement already satisfied: packaging in c:\\users\\lenovo\\appdata\\roaming\\python\\python310\\site-packages (from nbconvert) (23.2)\n",
      "Requirement already satisfied: defusedxml in c:\\users\\lenovo\\onedrive\\escritorio\\lib\\site-packages (from nbconvert) (0.7.1)\n",
      "Requirement already satisfied: six>=1.9.0 in c:\\users\\lenovo\\appdata\\roaming\\python\\python310\\site-packages (from bleach!=5.0.0->nbconvert) (1.16.0)\n",
      "Requirement already satisfied: webencodings in c:\\users\\lenovo\\onedrive\\escritorio\\lib\\site-packages (from bleach!=5.0.0->nbconvert) (0.5.1)\n",
      "Requirement already satisfied: platformdirs>=2.5 in c:\\users\\lenovo\\appdata\\roaming\\python\\python310\\site-packages (from jupyter-core>=4.7->nbconvert) (4.1.0)\n",
      "Requirement already satisfied: pywin32>=300 in c:\\users\\lenovo\\appdata\\roaming\\python\\python310\\site-packages (from jupyter-core>=4.7->nbconvert) (306)\n",
      "Requirement already satisfied: jupyter-client>=6.1.12 in c:\\users\\lenovo\\appdata\\roaming\\python\\python310\\site-packages (from nbclient>=0.5.0->nbconvert) (8.6.0)\n",
      "Requirement already satisfied: tornado>=6.2 in c:\\users\\lenovo\\appdata\\roaming\\python\\python310\\site-packages (from jupyter-client>=6.1.12->nbclient>=0.5.0->nbconvert) (6.4)\n",
      "Requirement already satisfied: python-dateutil>=2.8.2 in c:\\users\\lenovo\\appdata\\roaming\\python\\python310\\site-packages (from jupyter-client>=6.1.12->nbclient>=0.5.0->nbconvert) (2.8.2)\n",
      "Requirement already satisfied: pyzmq>=23.0 in c:\\users\\lenovo\\appdata\\roaming\\python\\python310\\site-packages (from jupyter-client>=6.1.12->nbclient>=0.5.0->nbconvert) (25.1.2)\n",
      "Requirement already satisfied: jsonschema>=2.6 in c:\\users\\lenovo\\onedrive\\escritorio\\lib\\site-packages (from nbformat>=5.7->nbconvert) (4.20.0)\n",
      "Requirement already satisfied: fastjsonschema>=2.15 in c:\\users\\lenovo\\onedrive\\escritorio\\lib\\site-packages (from nbformat>=5.7->nbconvert) (2.19.1)\n",
      "Requirement already satisfied: attrs>=22.2.0 in c:\\users\\lenovo\\onedrive\\escritorio\\lib\\site-packages (from jsonschema>=2.6->nbformat>=5.7->nbconvert) (23.2.0)\n",
      "Requirement already satisfied: jsonschema-specifications>=2023.03.6 in c:\\users\\lenovo\\onedrive\\escritorio\\lib\\site-packages (from jsonschema>=2.6->nbformat>=5.7->nbconvert) (2023.12.1)\n",
      "Requirement already satisfied: rpds-py>=0.7.1 in c:\\users\\lenovo\\onedrive\\escritorio\\lib\\site-packages (from jsonschema>=2.6->nbformat>=5.7->nbconvert) (0.16.2)\n",
      "Requirement already satisfied: referencing>=0.28.4 in c:\\users\\lenovo\\onedrive\\escritorio\\lib\\site-packages (from jsonschema>=2.6->nbformat>=5.7->nbconvert) (0.32.0)\n",
      "Requirement already satisfied: soupsieve>1.2 in c:\\users\\lenovo\\onedrive\\escritorio\\lib\\site-packages (from beautifulsoup4->nbconvert) (2.5)\n"
     ]
    },
    {
     "name": "stderr",
     "output_type": "stream",
     "text": [
      "WARNING: You are using pip version 21.2.4; however, version 24.0 is available.\n",
      "You should consider upgrading via the 'C:\\Users\\Lenovo\\OneDrive\\Escritorio\\python.exe -m pip install --upgrade pip' command.\n"
     ]
    }
   ],
   "source": [
    "##Script de ejecución automática\n",
    "!pip install schedule nbconvert\n"
   ]
  },
  {
   "cell_type": "code",
   "execution_count": 4,
   "metadata": {},
   "outputs": [
    {
     "name": "stdout",
     "output_type": "stream",
     "text": [
      "Requirement already satisfied: schedule in c:\\users\\lenovo\\onedrive\\escritorio\\lib\\site-packages (1.2.1)\n",
      "Requirement already satisfied: nbclient in c:\\users\\lenovo\\onedrive\\escritorio\\lib\\site-packages (0.10.0)\n",
      "Requirement already satisfied: jupyter-core!=5.0.*,>=4.12 in c:\\users\\lenovo\\appdata\\roaming\\python\\python310\\site-packages (from nbclient) (5.6.1)\n",
      "Requirement already satisfied: nbformat>=5.1 in c:\\users\\lenovo\\onedrive\\escritorio\\lib\\site-packages (from nbclient) (5.10.4)\n",
      "Requirement already satisfied: jupyter-client>=6.1.12 in c:\\users\\lenovo\\appdata\\roaming\\python\\python310\\site-packages (from nbclient) (8.6.0)\n",
      "Requirement already satisfied: traitlets>=5.4 in c:\\users\\lenovo\\appdata\\roaming\\python\\python310\\site-packages (from nbclient) (5.14.0)\n",
      "Requirement already satisfied: pyzmq>=23.0 in c:\\users\\lenovo\\appdata\\roaming\\python\\python310\\site-packages (from jupyter-client>=6.1.12->nbclient) (25.1.2)\n",
      "Requirement already satisfied: python-dateutil>=2.8.2 in c:\\users\\lenovo\\appdata\\roaming\\python\\python310\\site-packages (from jupyter-client>=6.1.12->nbclient) (2.8.2)\n",
      "Requirement already satisfied: tornado>=6.2 in c:\\users\\lenovo\\appdata\\roaming\\python\\python310\\site-packages (from jupyter-client>=6.1.12->nbclient) (6.4)\n",
      "Requirement already satisfied: platformdirs>=2.5 in c:\\users\\lenovo\\appdata\\roaming\\python\\python310\\site-packages (from jupyter-core!=5.0.*,>=4.12->nbclient) (4.1.0)\n",
      "Requirement already satisfied: pywin32>=300 in c:\\users\\lenovo\\appdata\\roaming\\python\\python310\\site-packages (from jupyter-core!=5.0.*,>=4.12->nbclient) (306)\n",
      "Requirement already satisfied: fastjsonschema>=2.15 in c:\\users\\lenovo\\onedrive\\escritorio\\lib\\site-packages (from nbformat>=5.1->nbclient) (2.19.1)\n",
      "Requirement already satisfied: jsonschema>=2.6 in c:\\users\\lenovo\\onedrive\\escritorio\\lib\\site-packages (from nbformat>=5.1->nbclient) (4.20.0)\n",
      "Requirement already satisfied: attrs>=22.2.0 in c:\\users\\lenovo\\onedrive\\escritorio\\lib\\site-packages (from jsonschema>=2.6->nbformat>=5.1->nbclient) (23.2.0)\n",
      "Requirement already satisfied: referencing>=0.28.4 in c:\\users\\lenovo\\onedrive\\escritorio\\lib\\site-packages (from jsonschema>=2.6->nbformat>=5.1->nbclient) (0.32.0)\n",
      "Requirement already satisfied: rpds-py>=0.7.1 in c:\\users\\lenovo\\onedrive\\escritorio\\lib\\site-packages (from jsonschema>=2.6->nbformat>=5.1->nbclient) (0.16.2)\n",
      "Requirement already satisfied: jsonschema-specifications>=2023.03.6 in c:\\users\\lenovo\\onedrive\\escritorio\\lib\\site-packages (from jsonschema>=2.6->nbformat>=5.1->nbclient) (2023.12.1)\n",
      "Requirement already satisfied: six>=1.5 in c:\\users\\lenovo\\appdata\\roaming\\python\\python310\\site-packages (from python-dateutil>=2.8.2->jupyter-client>=6.1.12->nbclient) (1.16.0)\n"
     ]
    },
    {
     "name": "stderr",
     "output_type": "stream",
     "text": [
      "WARNING: You are using pip version 21.2.4; however, version 24.0 is available.\n",
      "You should consider upgrading via the 'C:\\Users\\Lenovo\\OneDrive\\Escritorio\\python.exe -m pip install --upgrade pip' command.\n"
     ]
    }
   ],
   "source": [
    "!pip install schedule nbclient\n"
   ]
  },
  {
   "cell_type": "code",
   "execution_count": 5,
   "metadata": {},
   "outputs": [],
   "source": [
    "from nbclient import NotebookClient\n"
   ]
  },
  {
   "cell_type": "code",
   "execution_count": 7,
   "metadata": {},
   "outputs": [
    {
     "ename": "KeyboardInterrupt",
     "evalue": "",
     "output_type": "error",
     "traceback": [
      "\u001b[1;31m---------------------------------------------------------------------------\u001b[0m",
      "\u001b[1;31mKeyboardInterrupt\u001b[0m                         Traceback (most recent call last)",
      "Cell \u001b[1;32mIn[7], line 27\u001b[0m\n\u001b[0;32m     25\u001b[0m \u001b[38;5;28;01mwhile\u001b[39;00m \u001b[38;5;28;01mTrue\u001b[39;00m:\n\u001b[0;32m     26\u001b[0m     schedule\u001b[38;5;241m.\u001b[39mrun_pending()\n\u001b[1;32m---> 27\u001b[0m     \u001b[43mtime\u001b[49m\u001b[38;5;241;43m.\u001b[39;49m\u001b[43msleep\u001b[49m\u001b[43m(\u001b[49m\u001b[38;5;241;43m1\u001b[39;49m\u001b[43m)\u001b[49m\n",
      "\u001b[1;31mKeyboardInterrupt\u001b[0m: "
     ]
    }
   ],
   "source": [
    "import schedule\n",
    "import time\n",
    "from nbclient import NotebookClient\n",
    "\n",
    "def ejecutar_notebook(notebook_path):\n",
    "    try:\n",
    "        client = NotebookClient(path=notebook_path)\n",
    "        client.execute()\n",
    "    except Exception as e:\n",
    "        print(\"Error al ejecutar el notebook:\", e)\n",
    "\n",
    "# Función para programar la ejecución del notebook en un horario específico\n",
    "def programar_ejecucion():\n",
    "    # Programar la ejecución del script de lunes a viernes a las 6:00 PM\n",
    "    schedule.every().monday.at(\"18:00\").do(ejecutar_notebook, notebook_path='C:/Users/Lenovo/OneDrive/Documentos/GitHub/LocalFinance/FileActualization.ipynb')\n",
    "    schedule.every().tuesday.at(\"18:00\").do(ejecutar_notebook, notebook_path='C:/Users/Lenovo/OneDrive/Documentos/GitHub/LocalFinance/FileActualization.ipynb')\n",
    "    schedule.every().wednesday.at(\"18:00\").do(ejecutar_notebook, notebook_path='C:/Users/Lenovo/OneDrive/Documentos/GitHub/LocalFinance/FileActualization.ipynb')\n",
    "    schedule.every().thursday.at(\"18:00\").do(ejecutar_notebook, notebook_path='C:/Users/Lenovo/OneDrive/Documentos/GitHub/LocalFinance/FileActualization.ipynb')\n",
    "    schedule.every().friday.at(\"18:00\").do(ejecutar_notebook, notebook_path='C:/Users/Lenovo/OneDrive/Documentos/GitHub/LocalFinance/FileActualization.ipynb')\n",
    "\n",
    "# Llamar a la función para programar la ejecución del notebook\n",
    "programar_ejecucion()\n",
    "\n",
    "# Loop para ejecutar las tareas programadas\n",
    "while True:\n",
    "    schedule.run_pending()\n",
    "    time.sleep(1)"
   ]
  },
  {
   "cell_type": "code",
   "execution_count": 3,
   "metadata": {},
   "outputs": [
    {
     "ename": "ImportError",
     "evalue": "cannot import name 'execute_notebook' from 'nbconvert' (c:\\Users\\Lenovo\\OneDrive\\Escritorio\\lib\\site-packages\\nbconvert\\__init__.py)",
     "output_type": "error",
     "traceback": [
      "\u001b[1;31m---------------------------------------------------------------------------\u001b[0m",
      "\u001b[1;31mImportError\u001b[0m                               Traceback (most recent call last)",
      "Cell \u001b[1;32mIn[3], line 3\u001b[0m\n\u001b[0;32m      1\u001b[0m \u001b[38;5;28;01mimport\u001b[39;00m \u001b[38;5;21;01mschedule\u001b[39;00m\n\u001b[0;32m      2\u001b[0m \u001b[38;5;28;01mimport\u001b[39;00m \u001b[38;5;21;01mtime\u001b[39;00m\n\u001b[1;32m----> 3\u001b[0m \u001b[38;5;28;01mfrom\u001b[39;00m \u001b[38;5;21;01mnbconvert\u001b[39;00m \u001b[38;5;28;01mimport\u001b[39;00m execute_notebook\n\u001b[0;32m      4\u001b[0m \u001b[38;5;28;01mfrom\u001b[39;00m \u001b[38;5;21;01mnbconvert\u001b[39;00m \u001b[38;5;28;01mimport\u001b[39;00m NotebookExporter\n\u001b[0;32m      5\u001b[0m \u001b[38;5;28;01mimport\u001b[39;00m \u001b[38;5;21;01mnbformat\u001b[39;00m\n",
      "\u001b[1;31mImportError\u001b[0m: cannot import name 'execute_notebook' from 'nbconvert' (c:\\Users\\Lenovo\\OneDrive\\Escritorio\\lib\\site-packages\\nbconvert\\__init__.py)"
     ]
    }
   ],
   "source": [
    "import schedule\n",
    "import time\n",
    "from nbconvert import execute_notebook\n",
    "from nbconvert import NotebookExporter\n",
    "import nbformat\n",
    "import subprocess\n",
    "\n",
    "def ejecutar_script():\n",
    "    try:\n",
    "        subprocess.check_call([\"jupyter\", \"nbconvert\", \"--to\", \"notebook\", \"--execute\", \"--inplace\", 'C:/Users/Lenovo/OneDrive/Documentos/GitHub/LocalFinance/FileActualization.ipynb'])\n",
    "    except Exception as e:\n",
    "        print(\"Error al ejecutar el script:\", e)\n",
    "\n",
    "# Programar la ejecución del script todos los días a las 6:00 PM\n",
    "schedule.every().day.at(\"18:00\").do(ejecutar_script)"
   ]
  }
 ],
 "metadata": {
  "kernelspec": {
   "display_name": "Python 3",
   "language": "python",
   "name": "python3"
  },
  "language_info": {
   "codemirror_mode": {
    "name": "ipython",
    "version": 3
   },
   "file_extension": ".py",
   "mimetype": "text/x-python",
   "name": "python",
   "nbconvert_exporter": "python",
   "pygments_lexer": "ipython3",
   "version": "3.10.2"
  }
 },
 "nbformat": 4,
 "nbformat_minor": 2
}
